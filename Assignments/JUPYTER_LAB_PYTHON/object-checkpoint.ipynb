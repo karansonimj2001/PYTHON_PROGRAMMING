{
 "cells": [
  {
   "cell_type": "code",
   "execution_count": 3,
   "id": "d633c771-6040-4438-bfe7-0a885279d0ca",
   "metadata": {
    "tags": []
   },
   "outputs": [],
   "source": [
    "# class classname:\n",
    "#     stmts\n"
   ]
  },
  {
   "cell_type": "code",
   "execution_count": 13,
   "id": "961d0f30-0a7c-4396-a39e-15f7ab1c4370",
   "metadata": {
    "tags": []
   },
   "outputs": [],
   "source": [
    "# class employee:\n",
    "#     pass\n",
    "# class account:\n",
    "#     pass\n",
    "# class car:\n",
    "#     pass\n"
   ]
  },
  {
   "cell_type": "code",
   "execution_count": 1,
   "id": "5be3add5-d417-49e7-bba2-53afb6c04db0",
   "metadata": {
    "tags": []
   },
   "outputs": [],
   "source": [
    "# objname = classname()\n"
   ]
  },
  {
   "cell_type": "code",
   "execution_count": 7,
   "id": "10f22b59-fdb3-4ba2-9ae1-b7e7520cad83",
   "metadata": {
    "tags": []
   },
   "outputs": [],
   "source": [
    "class account:\n",
    "    def __init__(self):\n",
    "        self.acn=101\n",
    "        self.bal=1000\n",
    "\n",
    "a1=account()"
   ]
  },
  {
   "cell_type": "code",
   "execution_count": 11,
   "id": "23203fc5-9e96-4f45-8894-cb3ae00c95ca",
   "metadata": {
    "tags": []
   },
   "outputs": [
    {
     "name": "stdout",
     "output_type": "stream",
     "text": [
      "101 1000\n",
      "102 2000\n"
     ]
    }
   ],
   "source": [
    "class account:\n",
    "    def __init__(self,a,b):\n",
    "        self.acn=a\n",
    "        self.bal=b\n",
    "\n",
    "a1=account(101,1000)\n",
    "\n",
    "a2=account(102,2000)\n",
    "print(a1.acn,a1.bal)\n",
    "\n",
    "print(a2.acn,a2.bal)"
   ]
  },
  {
   "cell_type": "code",
   "execution_count": 15,
   "id": "105adaaa-9b10-4506-b38f-e96516d80af6",
   "metadata": {
    "tags": []
   },
   "outputs": [
    {
     "name": "stdout",
     "output_type": "stream",
     "text": [
      "101 1000\n",
      "102 2000\n"
     ]
    }
   ],
   "source": [
    "class account:\n",
    "    def __init__(self,a,b):\n",
    "        self.acn=a\n",
    "        self.bal=b\n",
    "        ifsc='123pqr'\n",
    "a1=account(101,1000)\n",
    "\n",
    "a2=account(102,2000)\n",
    "print(a1.acn,a1.bal)\n",
    "\n",
    "print(a2.acn,a2.bal)"
   ]
  },
  {
   "cell_type": "code",
   "execution_count": 13,
   "id": "0bb8fb22-e861-41f8-aa6b-f6294951e9ed",
   "metadata": {
    "tags": []
   },
   "outputs": [
    {
     "name": "stdout",
     "output_type": "stream",
     "text": [
      "101 1000\n",
      "102 2000\n"
     ]
    }
   ],
   "source": [
    "class account:\n",
    "    ifsc='123pqr'\n",
    "    def __init__(self,a,b):\n",
    "        self.acn=a\n",
    "        self.bal=b\n",
    "\n",
    "a1=account(101,1000)\n",
    "\n",
    "a2=account(102,2000)\n",
    "print(a1.acn,a1.bal)\n",
    "\n",
    "print(a2.acn,a2.bal)"
   ]
  },
  {
   "cell_type": "code",
   "execution_count": 19,
   "id": "068c0976-8cad-43d0-b194-fdfae6ab95ea",
   "metadata": {
    "tags": []
   },
   "outputs": [
    {
     "name": "stdout",
     "output_type": "stream",
     "text": [
      "101 1000\n",
      "102 2000\n",
      "321rqp\n"
     ]
    }
   ],
   "source": [
    "class account:\n",
    "    ifsc='123pqr'\n",
    "    def __init__(self,a,b):\n",
    "        self.acn=a\n",
    "        self.bal=b\n",
    "\n",
    "a1=account(101,1000)\n",
    "\n",
    "a2=account(102,2000)\n",
    "print(a1.acn,a1.bal)\n",
    "\n",
    "print(a2.acn,a2.bal)\n",
    "account.ifsc='321rqp'\n",
    "print(a1.ifsc)"
   ]
  },
  {
   "cell_type": "code",
   "execution_count": 31,
   "id": "7a89dabc-8547-4755-b9df-8ccb6e2f78a3",
   "metadata": {
    "tags": []
   },
   "outputs": [
    {
     "name": "stdout",
     "output_type": "stream",
     "text": [
      "this is m1\n",
      "this is m2\n",
      "this is m3\n"
     ]
    }
   ],
   "source": [
    "class test:\n",
    "    def m1(self):\n",
    "        print(\"this is m1\")\n",
    "    @classmethod\n",
    "    def m2(cls):\n",
    "        print(\"this is m2\")\n",
    "    @staticmethod\n",
    "    def m3():\n",
    "        print(\"this is m3\")\n",
    "obj=test()\n",
    "obj.m1()\n",
    "test.m2()\n",
    "test.m3()"
   ]
  },
  {
   "cell_type": "code",
   "execution_count": 37,
   "id": "06cefbed-a486-4c97-a1ca-4a5d764f25d0",
   "metadata": {
    "tags": []
   },
   "outputs": [
    {
     "name": "stdout",
     "output_type": "stream",
     "text": [
      "20\n"
     ]
    }
   ],
   "source": [
    "class calculator:\n",
    "    def __init__(self):\n",
    "        self.a=4\n",
    "        self.b=5\n",
    "    def mul(self):\n",
    "        print(self.a*self.b)\n",
    "obj=calculator()\n",
    "obj.mul()"
   ]
  },
  {
   "cell_type": "code",
   "execution_count": 43,
   "id": "fa08f487-ba99-41d8-a333-7e450ec4ec7f",
   "metadata": {
    "tags": []
   },
   "outputs": [
    {
     "name": "stdout",
     "output_type": "stream",
     "text": [
      "20\n"
     ]
    }
   ],
   "source": [
    "class calculator:\n",
    "    \n",
    "    a=4\n",
    "    b=5\n",
    "    @classmethod\n",
    "    def mul(cls):\n",
    "        print(cls.a*cls.b)\n",
    "\n",
    "obj.mul()"
   ]
  },
  {
   "cell_type": "code",
   "execution_count": 51,
   "id": "fbe9ae9a-ed6f-4dfb-b58d-4a2aa5bfcfc8",
   "metadata": {
    "tags": []
   },
   "outputs": [
    {
     "name": "stdout",
     "output_type": "stream",
     "text": [
      "20\n"
     ]
    }
   ],
   "source": [
    "class calculator:\n",
    "    @staticmethod\n",
    "    def mul(a,b):\n",
    "        print(a*b)\n",
    "calculator.mul(4,5)"
   ]
  },
  {
   "cell_type": "code",
   "execution_count": null,
   "id": "1b868f29-a45a-4be8-8089-0031e5b0ca6f",
   "metadata": {},
   "outputs": [],
   "source": []
  }
 ],
 "metadata": {
  "kernelspec": {
   "display_name": "Python 3 (ipykernel)",
   "language": "python",
   "name": "python3"
  },
  "language_info": {
   "codemirror_mode": {
    "name": "ipython",
    "version": 3
   },
   "file_extension": ".py",
   "mimetype": "text/x-python",
   "name": "python",
   "nbconvert_exporter": "python",
   "pygments_lexer": "ipython3",
   "version": "3.11.7"
  }
 },
 "nbformat": 4,
 "nbformat_minor": 5
}

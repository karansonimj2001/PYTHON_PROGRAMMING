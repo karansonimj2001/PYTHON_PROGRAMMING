{
 "cells": [
  {
   "cell_type": "code",
   "execution_count": 3,
   "id": "d633c771-6040-4438-bfe7-0a885279d0ca",
   "metadata": {
    "tags": []
   },
   "outputs": [],
   "source": [
    "# class classname:\n",
    "#     stmts\n"
   ]
  },
  {
   "cell_type": "code",
   "execution_count": 13,
   "id": "961d0f30-0a7c-4396-a39e-15f7ab1c4370",
   "metadata": {
    "tags": []
   },
   "outputs": [],
   "source": [
    "# class employee:\n",
    "#     pass\n",
    "# class account:\n",
    "#     pass\n",
    "# class car:\n",
    "#     pass\n"
   ]
  },
  {
   "cell_type": "code",
   "execution_count": 1,
   "id": "5be3add5-d417-49e7-bba2-53afb6c04db0",
   "metadata": {
    "tags": []
   },
   "outputs": [],
   "source": [
    "# objname = classname()\n"
   ]
  },
  {
   "cell_type": "code",
   "execution_count": 7,
   "id": "10f22b59-fdb3-4ba2-9ae1-b7e7520cad83",
   "metadata": {
    "tags": []
   },
   "outputs": [],
   "source": [
    "class account:\n",
    "    def __init__(self):\n",
    "        self.acn=101\n",
    "        self.bal=1000\n",
    "\n",
    "a1=account()"
   ]
  },
  {
   "cell_type": "code",
   "execution_count": 11,
   "id": "23203fc5-9e96-4f45-8894-cb3ae00c95ca",
   "metadata": {
    "tags": []
   },
   "outputs": [
    {
     "name": "stdout",
     "output_type": "stream",
     "text": [
      "101 1000\n",
      "102 2000\n"
     ]
    }
   ],
   "source": [
    "class account:\n",
    "    def __init__(self,a,b):\n",
    "        self.acn=a\n",
    "        self.bal=b\n",
    "\n",
    "a1=account(101,1000)\n",
    "\n",
    "a2=account(102,2000)\n",
    "print(a1.acn,a1.bal)\n",
    "\n",
    "print(a2.acn,a2.bal)"
   ]
  },
  {
   "cell_type": "code",
   "execution_count": 15,
   "id": "105adaaa-9b10-4506-b38f-e96516d80af6",
   "metadata": {
    "tags": []
   },
   "outputs": [
    {
     "name": "stdout",
     "output_type": "stream",
     "text": [
      "101 1000\n",
      "102 2000\n"
     ]
    }
   ],
   "source": [
    "class account:\n",
    "    def __init__(self,a,b):\n",
    "        self.acn=a\n",
    "        self.bal=b\n",
    "        ifsc='123pqr'\n",
    "a1=account(101,1000)\n",
    "\n",
    "a2=account(102,2000)\n",
    "print(a1.acn,a1.bal)\n",
    "\n",
    "print(a2.acn,a2.bal)"
   ]
  },
  {
   "cell_type": "code",
   "execution_count": 13,
   "id": "0bb8fb22-e861-41f8-aa6b-f6294951e9ed",
   "metadata": {
    "tags": []
   },
   "outputs": [
    {
     "name": "stdout",
     "output_type": "stream",
     "text": [
      "101 1000\n",
      "102 2000\n"
     ]
    }
   ],
   "source": [
    "class account:\n",
    "    ifsc='123pqr'\n",
    "    def __init__(self,a,b):\n",
    "        self.acn=a\n",
    "        self.bal=b\n",
    "\n",
    "a1=account(101,1000)\n",
    "\n",
    "a2=account(102,2000)\n",
    "print(a1.acn,a1.bal)\n",
    "\n",
    "print(a2.acn,a2.bal)"
   ]
  },
  {
   "cell_type": "code",
   "execution_count": 19,
   "id": "068c0976-8cad-43d0-b194-fdfae6ab95ea",
   "metadata": {
    "tags": []
   },
   "outputs": [
    {
     "name": "stdout",
     "output_type": "stream",
     "text": [
      "101 1000\n",
      "102 2000\n",
      "321rqp\n"
     ]
    }
   ],
   "source": [
    "class account:\n",
    "    ifsc='123pqr'\n",
    "    def __init__(self,a,b):\n",
    "        self.acn=a\n",
    "        self.bal=b\n",
    "\n",
    "a1=account(101,1000)\n",
    "\n",
    "a2=account(102,2000)\n",
    "print(a1.acn,a1.bal)\n",
    "\n",
    "print(a2.acn,a2.bal)\n",
    "account.ifsc='321rqp'\n",
    "print(a1.ifsc)"
   ]
  },
  {
   "cell_type": "code",
   "execution_count": 31,
   "id": "7a89dabc-8547-4755-b9df-8ccb6e2f78a3",
   "metadata": {
    "tags": []
   },
   "outputs": [
    {
     "name": "stdout",
     "output_type": "stream",
     "text": [
      "this is m1\n",
      "this is m2\n",
      "this is m3\n"
     ]
    }
   ],
   "source": [
    "class test:\n",
    "    def m1(self):\n",
    "        print(\"this is m1\")\n",
    "    @classmethod\n",
    "    def m2(cls):\n",
    "        print(\"this is m2\")\n",
    "    @staticmethod\n",
    "    def m3():\n",
    "        print(\"this is m3\")\n",
    "obj=test()\n",
    "obj.m1()\n",
    "test.m2()\n",
    "test.m3()"
   ]
  },
  {
   "cell_type": "code",
   "execution_count": 37,
   "id": "06cefbed-a486-4c97-a1ca-4a5d764f25d0",
   "metadata": {
    "tags": []
   },
   "outputs": [
    {
     "name": "stdout",
     "output_type": "stream",
     "text": [
      "20\n"
     ]
    }
   ],
   "source": [
    "class calculator:\n",
    "    def __init__(self):\n",
    "        self.a=4\n",
    "        self.b=5\n",
    "    def mul(self):\n",
    "        print(self.a*self.b)\n",
    "obj=calculator()\n",
    "obj.mul()"
   ]
  },
  {
   "cell_type": "code",
   "execution_count": 43,
   "id": "fa08f487-ba99-41d8-a333-7e450ec4ec7f",
   "metadata": {
    "tags": []
   },
   "outputs": [
    {
     "name": "stdout",
     "output_type": "stream",
     "text": [
      "20\n"
     ]
    }
   ],
   "source": [
    "class calculator:\n",
    "    \n",
    "    a=4\n",
    "    b=5\n",
    "    @classmethod\n",
    "    def mul(cls):\n",
    "        print(cls.a*cls.b)\n",
    "\n",
    "obj.mul()"
   ]
  },
  {
   "cell_type": "code",
   "execution_count": 51,
   "id": "fbe9ae9a-ed6f-4dfb-b58d-4a2aa5bfcfc8",
   "metadata": {
    "tags": []
   },
   "outputs": [
    {
     "name": "stdout",
     "output_type": "stream",
     "text": [
      "20\n"
     ]
    }
   ],
   "source": [
    "class calculator:\n",
    "    @staticmethod\n",
    "    def mul(a,b):\n",
    "        print(a*b)\n",
    "calculator.mul(4,5)"
   ]
  },
  {
   "cell_type": "code",
   "execution_count": 11,
   "id": "1b868f29-a45a-4be8-8089-0031e5b0ca6f",
   "metadata": {},
   "outputs": [],
   "source": [
    "class telephone:\n",
    "    def call(self):\n",
    "        print(\"this is call\")\n",
    "        \n",
    "class mo0bile(telephone):\n",
    "    def message(self):\n",
    "        print(\"this is a message\")"
   ]
  },
  {
   "cell_type": "code",
   "execution_count": 15,
   "id": "35dd38fa-273b-4277-89e7-51db233fac95",
   "metadata": {
    "tags": []
   },
   "outputs": [
    {
     "name": "stdout",
     "output_type": "stream",
     "text": [
      "this is call\n",
      "this is a message\n",
      "this is a video call\n"
     ]
    }
   ],
   "source": [
    "class telephone:\n",
    "    def call(self):\n",
    "        print(\"this is call\")\n",
    "        \n",
    "class mobile(telephone):\n",
    "    def message(self):\n",
    "        print(\"this is a message\")\n",
    "        \n",
    "class smartphone(mobile):\n",
    "    def videocall(self):\n",
    "        print(\"this is a video call\")\n",
    "        \n",
    "obj=smartphone()\n",
    "obj.call()\n",
    "obj.message()\n",
    "obj.videocall()\n"
   ]
  },
  {
   "cell_type": "code",
   "execution_count": 28,
   "id": "818ad506-e6d4-442e-a278-d61362a8ef43",
   "metadata": {
    "tags": []
   },
   "outputs": [],
   "source": [
    "class telephone:\n",
    "    def call(self):\n",
    "        print(\"this is call\")\n",
    "class camera:\n",
    "    def photo(self):\n",
    "        print(\"picture\")\n",
    "        \n",
    "class mobile(telephone,camera):\n",
    "    def message(self):\n",
    "        print(\"this is a message\")\n"
   ]
  },
  {
   "cell_type": "code",
   "execution_count": 30,
   "id": "e934a693-21da-4632-9aac-3db0468dc03d",
   "metadata": {
    "tags": []
   },
   "outputs": [
    {
     "ename": "IndentationError",
     "evalue": "expected an indented block after function definition on line 4 (2474390194.py, line 5)",
     "output_type": "error",
     "traceback": [
      "\u001b[1;36m  Cell \u001b[1;32mIn[30], line 5\u001b[1;36m\u001b[0m\n\u001b[1;33m    class student(person):\u001b[0m\n\u001b[1;37m                          ^\u001b[0m\n\u001b[1;31mIndentationError\u001b[0m\u001b[1;31m:\u001b[0m expected an indented block after function definition on line 4\n"
     ]
    }
   ],
   "source": [
    "class person :\n",
    "    def eating(self):\n",
    "        print(\"eating\")\n",
    "    def thinking(self):\n",
    "class student(person):\n",
    "    def study (self):\n",
    "        print(\"studying\")\n",
    "class actor:\n",
    "    def acting(self):\n",
    "        print(\"acting\")\n",
    "obj\n",
    "obj.thinking()\n",
    "\n"
   ]
  },
  {
   "cell_type": "code",
   "execution_count": 38,
   "id": "be7372f9-a30d-4a42-a36f-c58412f8b280",
   "metadata": {
    "tags": []
   },
   "outputs": [
    {
     "name": "stdout",
     "output_type": "stream",
     "text": [
      "this is m1 in a\n",
      "this is m2 in c\n"
     ]
    }
   ],
   "source": [
    "class a:\n",
    "    def m1(self):\n",
    "        print(\"this is m1 in a\")\n",
    "class b:\n",
    "    def m1(self):\n",
    "        print(\"this is m1 in b\")\n",
    "class c(a,b):\n",
    "    def m2(self):\n",
    "        print(\"this is m2 in c\")\n",
    "obj=c()\n",
    "obj.m1()\n",
    "obj.m2()"
   ]
  },
  {
   "cell_type": "code",
   "execution_count": null,
   "id": "52ab6825-04fd-4175-9b1c-e73b3ad4b5ee",
   "metadata": {},
   "outputs": [],
   "source": []
  }
 ],
 "metadata": {
  "kernelspec": {
   "display_name": "Python 3 (ipykernel)",
   "language": "python",
   "name": "python3"
  },
  "language_info": {
   "codemirror_mode": {
    "name": "ipython",
    "version": 3
   },
   "file_extension": ".py",
   "mimetype": "text/x-python",
   "name": "python",
   "nbconvert_exporter": "python",
   "pygments_lexer": "ipython3",
   "version": "3.11.7"
  }
 },
 "nbformat": 4,
 "nbformat_minor": 5
}

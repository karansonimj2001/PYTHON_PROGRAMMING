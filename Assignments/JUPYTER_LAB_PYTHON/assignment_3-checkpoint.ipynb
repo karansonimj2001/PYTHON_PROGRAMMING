{
 "cells": [
  {
   "cell_type": "markdown",
   "id": "8e43bdb7-8138-459a-a5b7-d4e9368c44ed",
   "metadata": {},
   "source": [
    "# 3. Write a Python program to create a calculator class. Include methods for basic arithmetic operations."
   ]
  },
  {
   "cell_type": "code",
   "execution_count": 3,
   "id": "da076ee0-7694-4323-b1de-3bff8f0000c3",
   "metadata": {
    "tags": []
   },
   "outputs": [
    {
     "name": "stdout",
     "output_type": "stream",
     "text": [
      "10\n",
      "5\n",
      "5.0\n",
      "20\n",
      "4\n"
     ]
    }
   ],
   "source": [
    "class calculator:\n",
    "    def plus(self,num1,num2):\n",
    "        print(num1+num2)\n",
    "    def minus(self,num1,num2):\n",
    "        print(num1-num2)\n",
    "    def devide(self,num1,num2):\n",
    "        print(num1/num2)\n",
    "    def mul(self,num1,num2):\n",
    "        print(num1*num2)\n",
    "    def power(self,num1,num2):\n",
    "        print(num1**num2)\n",
    "obj=calculator()\n",
    "obj.plus(5,5)\n",
    "obj.minus(10,5)\n",
    "obj.devide(10,2)\n",
    "obj.mul(2,10)\n",
    "obj.power(2,2)"
   ]
  },
  {
   "cell_type": "code",
   "execution_count": null,
   "id": "0fd6fd6d-5541-4d8f-9023-465f8cfca720",
   "metadata": {},
   "outputs": [],
   "source": []
  }
 ],
 "metadata": {
  "kernelspec": {
   "display_name": "Python 3 (ipykernel)",
   "language": "python",
   "name": "python3"
  },
  "language_info": {
   "codemirror_mode": {
    "name": "ipython",
    "version": 3
   },
   "file_extension": ".py",
   "mimetype": "text/x-python",
   "name": "python",
   "nbconvert_exporter": "python",
   "pygments_lexer": "ipython3",
   "version": "3.11.7"
  }
 },
 "nbformat": 4,
 "nbformat_minor": 5
}

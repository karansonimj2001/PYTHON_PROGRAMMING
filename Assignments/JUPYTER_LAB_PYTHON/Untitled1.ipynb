{
 "cells": [
  {
   "cell_type": "markdown",
   "id": "a02f977a-c07c-46e6-9cb9-f10047c16cea",
   "metadata": {},
   "source": [
    "# 4. Write a Python program to create a class that represents a shape. Include methods to calculate its area and perimeter. Implement subclasses for different shapes like circle, triangle, and square."
   ]
  },
  {
   "cell_type": "code",
   "execution_count": 5,
   "id": "cf5a2307-5536-44a6-a13d-04b80ba43454",
   "metadata": {},
   "outputs": [],
   "source": [
    "# class shapes:\n",
    "#     @classmethod\n",
    "    "
   ]
  },
  {
   "cell_type": "markdown",
   "id": "0dca7a6f-c228-4d95-a02a-2f4e477cc705",
   "metadata": {},
   "source": [
    "# DATA ENCAPSULATION."
   ]
  },
  {
   "cell_type": "code",
   "execution_count": 10,
   "id": "69a0a237-a5cc-4245-baa5-8b4a27665b89",
   "metadata": {
    "tags": []
   },
   "outputs": [
    {
     "name": "stdout",
     "output_type": "stream",
     "text": [
      "5000\n"
     ]
    }
   ],
   "source": [
    "# WITHOUT ENCAPSULATION\n",
    "class emp:\n",
    "    def __init__(self):\n",
    "        self.sal=5000\n",
    "#outside class code\n",
    "obj=emp()\n",
    "print(obj.sal)"
   ]
  },
  {
   "cell_type": "code",
   "execution_count": 38,
   "id": "4e3ed8ad-dd06-452d-81a4-e62b29540e12",
   "metadata": {
    "tags": []
   },
   "outputs": [
    {
     "name": "stdout",
     "output_type": "stream",
     "text": [
      "5000\n",
      "6000\n"
     ]
    }
   ],
   "source": [
    "# WITH ENCAPSULATION\n",
    "\n",
    "class emp:\n",
    "    def __init__(self):\n",
    "        self.__sal=5000 #__sal is private data member\n",
    "    def getsal(self):\n",
    "        return self.__sal\n",
    "    def setsal(self,s):\n",
    "        self.__sal=s\n",
    "#outside class code\n",
    "\n",
    "obj=emp()\n",
    "print(obj.getsal())\n",
    "obj.setsal(6000)\n",
    "print(obj.getsal())"
   ]
  },
  {
   "cell_type": "code",
   "execution_count": 48,
   "id": "b428369b-f8fe-4f18-be5f-6fb516a1c4d7",
   "metadata": {
    "tags": []
   },
   "outputs": [
    {
     "name": "stdout",
     "output_type": "stream",
     "text": [
      "morning walk 30 minutes\n",
      "according to diet plan based on cals\n",
      "3 times eating in a day, generally dal rroti\n"
     ]
    }
   ],
   "source": [
    "# method overiding\n",
    "class person:\n",
    "    def eating(self):\n",
    "        print(\"3 times eating in a day, generally dal rroti\")\n",
    "    def morningwalk(self):\n",
    "        print(\"morning walk 30 minutes\")\n",
    "        \n",
    "class actor(person):\n",
    "    def eating(self):\n",
    "        print(\"according to diet plan based on cals\")\n",
    "        super().eating()\n",
    "obj=actor()\n",
    "obj.morningwalk()\n",
    "obj.eating()"
   ]
  },
  {
   "cell_type": "code",
   "execution_count": 64,
   "id": "9fd3c825-712a-4029-86a2-28923ab75bc0",
   "metadata": {
    "tags": []
   },
   "outputs": [
    {
     "name": "stdout",
     "output_type": "stream",
     "text": [
      "60\n",
      "500\n"
     ]
    }
   ],
   "source": [
    "class match:\n",
    "    def __init__(self,r):\n",
    "        self.run=r\n",
    "    def __add__(self,other):\n",
    "        return self.run+other.run\n",
    "    def __mul__(self,other):\n",
    "        return self.run*other.run\n",
    "    def \n",
    "m1=match(10)\n",
    "m2=match(50)\n",
    "print(m1+m2)\n",
    "print(m1*m2)"
   ]
  },
  {
   "cell_type": "code",
   "execution_count": 87,
   "id": "5130109b-5d6d-495e-ba88-a8fbec14dbb2",
   "metadata": {
    "tags": []
   },
   "outputs": [
    {
     "name": "stdout",
     "output_type": "stream",
     "text": [
      "this is show in B\n"
     ]
    },
    {
     "ename": "AttributeError",
     "evalue": "type object 'super' has no attribute 'show'",
     "output_type": "error",
     "traceback": [
      "\u001b[1;31m---------------------------------------------------------------------------\u001b[0m",
      "\u001b[1;31mAttributeError\u001b[0m                            Traceback (most recent call last)",
      "Cell \u001b[1;32mIn[87], line 14\u001b[0m\n\u001b[0;32m     12\u001b[0m         \u001b[38;5;28msuper\u001b[39m\u001b[38;5;241m.\u001b[39mshow()\n\u001b[0;32m     13\u001b[0m obj\u001b[38;5;241m=\u001b[39mB()\n\u001b[1;32m---> 14\u001b[0m obj\u001b[38;5;241m.\u001b[39mshow()\n",
      "Cell \u001b[1;32mIn[87], line 12\u001b[0m, in \u001b[0;36mB.show\u001b[1;34m(self)\u001b[0m\n\u001b[0;32m     10\u001b[0m \u001b[38;5;28;01mdef\u001b[39;00m \u001b[38;5;21mshow\u001b[39m(\u001b[38;5;28mself\u001b[39m):\n\u001b[0;32m     11\u001b[0m     \u001b[38;5;28mprint\u001b[39m(\u001b[38;5;124m\"\u001b[39m\u001b[38;5;124mthis is show in B\u001b[39m\u001b[38;5;124m\"\u001b[39m)\n\u001b[1;32m---> 12\u001b[0m     \u001b[38;5;28msuper\u001b[39m\u001b[38;5;241m.\u001b[39mshow()\n",
      "\u001b[1;31mAttributeError\u001b[0m: type object 'super' has no attribute 'show'"
     ]
    }
   ],
   "source": [
    "from abc import *\n",
    "class A(ABC):\n",
    "    \n",
    "    @abstractmethod\n",
    "    def show(self):\n",
    "        print(\"this is show in A\")\n",
    "    \n",
    "# obj=A()\n",
    "class B(A):\n",
    "    def show(self):\n",
    "        print(\"this is show in B\")\n",
    "        super.show()\n",
    "obj=B()\n",
    "obj.show()"
   ]
  },
  {
   "cell_type": "code",
   "execution_count": null,
   "id": "95bbddf6-e41f-4c0f-a2de-102bcbb42e68",
   "metadata": {},
   "outputs": [],
   "source": []
  }
 ],
 "metadata": {
  "kernelspec": {
   "display_name": "Python 3 (ipykernel)",
   "language": "python",
   "name": "python3"
  },
  "language_info": {
   "codemirror_mode": {
    "name": "ipython",
    "version": 3
   },
   "file_extension": ".py",
   "mimetype": "text/x-python",
   "name": "python",
   "nbconvert_exporter": "python",
   "pygments_lexer": "ipython3",
   "version": "3.11.7"
  }
 },
 "nbformat": 4,
 "nbformat_minor": 5
}

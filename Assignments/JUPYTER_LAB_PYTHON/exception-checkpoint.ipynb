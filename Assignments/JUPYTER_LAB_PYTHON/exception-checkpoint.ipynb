{
 "cells": [
  {
   "cell_type": "markdown",
   "id": "d4d6afde-9f6b-467e-a22d-d55433e08d29",
   "metadata": {
    "tags": []
   },
   "source": [
    "# exception \n",
    "- it is a run time error that abnormally terminates porgram execution \n",
    "### causes for execution\n",
    "- resource is not available\n",
    "- file\n",
    "- network\n",
    "- library (variable, functon ,module)\n",
    "- unsuported operands in operations\n",
    "\n",
    "\n",
    "### types of exceptions\n",
    "- IndexError-----------> INDEX OUT OF RANGE\n",
    "\n",
    "- KeyError-------------> key not found in dictionary\n",
    "\n",
    "- ValueError-----------> incompatible type connversion of a value\n",
    "\n",
    "- ZeroDivsionError-----> num/0\n",
    "\n",
    "- ModuleNotFoundError-->module is not found\n",
    "\n",
    "- NameError------------>variable/function is not defined\n",
    "\n",
    "- TypeError------------>unsuported operands in operation(like 'hello' / 'hi')\n",
    "\n",
    "- FileNotFoundError---->file is not available at the time of open\n",
    "\n",
    "- KeyBoardInterrupt---->if we cancel execution of program in between\n",
    "\n",
    "- etc.\n",
    "\n",
    "\n",
    "# exception handling.\n",
    "- it is a technique that avoids abnormal program termination\n",
    "- to implement this technique we use following keywords\n",
    "- try\n",
    "- except\n",
    "- else\n",
    "- finally\n",
    "- raise\n",
    "- assert\n"
   ]
  },
  {
   "cell_type": "markdown",
   "id": "24c2ffbe-143c-495f-84dc-a6e74ef90d85",
   "metadata": {},
   "source": [
    "#how to generate explicitly\n",
    ">sometimes we need to raise exception if data is not correct according to logic but according to syntax data is fine, in this situation we can\n",
    "exception explicity.\n",
    "\n",
    ">EXP: we can raise exception for -ve value of age/weight/height,counting\n",
    "\n",
    "> there are 2 keywords for raising exception\n",
    "    1. raise keyword\n",
    "        syntax: raise Exception_Name('msg')\n",
    "    2. assert keyword\n",
    "        syntax: assert condition,'msg'"
   ]
  },
  {
   "cell_type": "code",
   "execution_count": 16,
   "id": "3102d422-fd13-407a-ba0e-5850eb40eb95",
   "metadata": {},
   "outputs": [
    {
     "name": "stdin",
     "output_type": "stream",
     "text": [
      "enter the age here  2\n"
     ]
    },
    {
     "name": "stdout",
     "output_type": "stream",
     "text": [
      "age after five years is  7\n"
     ]
    }
   ],
   "source": [
    "age=int(input(\"enter the age here \"))\n",
    "if age<0:\n",
    "    raise ValueError(\"-e age found\")\n",
    "age=age+5\n",
    "print(\"age after five years is \",age)"
   ]
  },
  {
   "cell_type": "code",
   "execution_count": 22,
   "id": "775eb0e2-a133-49d9-b24a-0919d15435e4",
   "metadata": {
    "tags": []
   },
   "outputs": [
    {
     "name": "stdin",
     "output_type": "stream",
     "text": [
      "enter the age here  5\n"
     ]
    },
    {
     "name": "stdout",
     "output_type": "stream",
     "text": [
      "age after five years is  10\n"
     ]
    }
   ],
   "source": [
    "age=int(input(\"enter the age here \"))\n",
    "assert age>0,'-ve age found'\n",
    "age=age+5\n",
    "print(\"age after five years is \",age)"
   ]
  },
  {
   "cell_type": "code",
   "execution_count": 24,
   "id": "2d302617-2747-4dee-b93f-18f8b9a148b7",
   "metadata": {
    "tags": []
   },
   "outputs": [],
   "source": [
    "#except block handles exception that are raised in it"
   ]
  },
  {
   "cell_type": "code",
   "execution_count": 34,
   "id": "929bfffb-a989-47d2-b5be-8d0bbf1fe443",
   "metadata": {
    "tags": []
   },
   "outputs": [
    {
     "name": "stdout",
     "output_type": "stream",
     "text": [
      "5.0\n",
      "2.0\n"
     ]
    }
   ],
   "source": [
    "def div(a,b):\n",
    "    c=a/b\n",
    "    return c\n",
    "print(div(10,2))\n",
    "\n",
    "# print(div(10,0))\n",
    "\n",
    "print(div(10,5))"
   ]
  },
  {
   "cell_type": "markdown",
   "id": "fbaac037-1405-44ae-9e0b-ea5e5c560a06",
   "metadata": {},
   "source": [
    "#exception in function\n",
    ">if excepton is raised inside a function and function is not handling it then this exception is automatically returned to calling code and this calling\n",
    "code need to handle exception "
   ]
  },
  {
   "cell_type": "markdown",
   "id": "172d4569-b179-445e-933a-b5fd09a420b1",
   "metadata": {
    "tags": []
   },
   "source": [
    "#advanced functions\n",
    "- #### map()\n",
    "- #### filter()\n",
    "- #### nested function\n",
    "- #### closer function\n",
    "- #### decorator function\n",
    "- #### lambda function\n",
    "- #### iterator function\n",
    "- #### genrator function\n"
   ]
  },
  {
   "cell_type": "markdown",
   "id": "394e36d2-bc47-4a1e-8d0a-dad8bb2111a5",
   "metadata": {},
   "source": [
    "#map (fun,iterable) #iterable ----->str/list/tupple/set/range()/etc.\n",
    "> map internally calls agrumented functions for each element of iterable.\n",
    "\n",
    "> it returns a map address of result\n",
    "\n",
    "> we need to conevert this result to list / tuple / set for further usage.\n",
    "\n",
    "> "
   ]
  },
  {
   "cell_type": "code",
   "execution_count": 3,
   "id": "c04f7370-3891-4386-ba2e-0495f88d5c46",
   "metadata": {
    "tags": []
   },
   "outputs": [
    {
     "data": {
      "text/plain": [
       "['h', 'a', 'n', 'a']"
      ]
     },
     "execution_count": 3,
     "metadata": {},
     "output_type": "execute_result"
    }
   ],
   "source": [
    "li=['rohit',\"sachin\",\"sonu\",\"virat\"]\n",
    "list(map(len,li))\n",
    "list(map(min,li))\n",
    "# print(len(li))"
   ]
  },
  {
   "cell_type": "code",
   "execution_count": 5,
   "id": "63c849e5-4b41-47ff-9569-cbdebf964dd3",
   "metadata": {
    "tags": []
   },
   "outputs": [
    {
     "name": "stdout",
     "output_type": "stream",
     "text": [
      "10\n"
     ]
    }
   ],
   "source": [
    "li=['1','2','3','4']\n",
    "m=list(map(int,li))\n",
    "a=sum(m)\n",
    "print(a)"
   ]
  },
  {
   "cell_type": "code",
   "execution_count": 7,
   "id": "80b6e2aa-e59f-4841-9a7a-725cf216f553",
   "metadata": {},
   "outputs": [],
   "source": [
    "li=[16,25,36,50,49]\n"
   ]
  },
  {
   "cell_type": "code",
   "execution_count": 13,
   "id": "4ab43b60-a2c9-42d0-9991-0cdb6535e2fb",
   "metadata": {
    "tags": []
   },
   "outputs": [
    {
     "name": "stdout",
     "output_type": "stream",
     "text": [
      "[2, 4]\n",
      "[1, 3, 5]\n",
      "[4, 5]\n"
     ]
    }
   ],
   "source": [
    "x=[1,2,3,4,5]\n",
    "print(list(filter(lambda num: num%2==0,x)))\n",
    "print(list(filter(lambda num: num%2!=0,x)))\n",
    "print(list(filter(lambda num: num>3,x)))"
   ]
  },
  {
   "cell_type": "markdown",
   "id": "c60e89f3-5b8b-4258-8c08-87e112cad1bc",
   "metadata": {},
   "source": [
    "# nested functon\n",
    "- a function is said to be nested if it is defined inside block of other function.\n",
    "- it is required when we want to limit the reusability of a function or when want to access local variable of a function by other function."
   ]
  },
  {
   "cell_type": "code",
   "execution_count": 23,
   "id": "0d310b06-1015-4a48-a935-507150c92d66",
   "metadata": {
    "tags": []
   },
   "outputs": [
    {
     "name": "stdout",
     "output_type": "stream",
     "text": [
      "apple\n",
      "orange\n"
     ]
    }
   ],
   "source": [
    "def show():\n",
    "    print(\"apple\")\n",
    "    def disp():\n",
    "        print(\"mango\")\n",
    "    print(\"orange\")\n",
    "    \n",
    "show()"
   ]
  },
  {
   "cell_type": "code",
   "execution_count": 25,
   "id": "6d4a2562-8667-431a-982e-4c7c4a7039f4",
   "metadata": {
    "tags": []
   },
   "outputs": [
    {
     "name": "stdout",
     "output_type": "stream",
     "text": [
      "this is disp 5\n",
      "this is show 5\n"
     ]
    }
   ],
   "source": [
    "def show():\n",
    "    i=5\n",
    "    def disp():\n",
    "        print('this is disp',i)\n",
    "    disp()\n",
    "    print('this is show',i)\n",
    "show()"
   ]
  },
  {
   "cell_type": "markdown",
   "id": "45e8c0d4-6869-4862-b18c-b0d65ec48ab6",
   "metadata": {
    "tags": []
   },
   "source": [
    "# how to call nested functon outside it's outer function.\n",
    "- #### first we need to return nested function from it's outer function.\n",
    "- #### at the time of calling outer function we store this returned function to a variable.\n",
    "- #### use call operator with this variable."
   ]
  },
  {
   "cell_type": "code",
   "execution_count": 31,
   "id": "7cb7ee8d-d9af-4bf9-9aed-b224852208cf",
   "metadata": {
    "tags": []
   },
   "outputs": [
    {
     "name": "stdout",
     "output_type": "stream",
     "text": [
      "this is disp 5\n",
      "this is show 5\n"
     ]
    },
    {
     "ename": "NameError",
     "evalue": "name 'i' is not defined",
     "output_type": "error",
     "traceback": [
      "\u001b[1;31m---------------------------------------------------------------------------\u001b[0m",
      "\u001b[1;31mNameError\u001b[0m                                 Traceback (most recent call last)",
      "Cell \u001b[1;32mIn[31], line 8\u001b[0m\n\u001b[0;32m      6\u001b[0m     \u001b[38;5;28mprint\u001b[39m(\u001b[38;5;124m'\u001b[39m\u001b[38;5;124mthis is show\u001b[39m\u001b[38;5;124m'\u001b[39m,i)\n\u001b[0;32m      7\u001b[0m show()\n\u001b[1;32m----> 8\u001b[0m \u001b[38;5;28mprint\u001b[39m(i)\n",
      "\u001b[1;31mNameError\u001b[0m: name 'i' is not defined"
     ]
    }
   ],
   "source": [
    "def show():\n",
    "    i=5\n",
    "    def disp():\n",
    "        print('this is disp',i)\n",
    "    disp()\n",
    "    print('this is show',i)\n",
    "show()\n",
    "print(i)"
   ]
  },
  {
   "cell_type": "markdown",
   "id": "53c730cf-f7ee-4c63-a8fd-1033ca6b9930",
   "metadata": {},
   "source": [
    "# closure function\n",
    "- a nested function is said to be closure if can use data of it's outer function even after delelting it's outer function."
   ]
  },
  {
   "cell_type": "markdown",
   "id": "b7ce44e1-05b2-40e7-bdaf-027e2173cd96",
   "metadata": {},
   "source": [
    "# iterator \n",
    "- #### it is an object that iterates one value at a time of an iterable.\n",
    "- #### for loop internally uses iterator to perform iterations.\n",
    "- #### we can also get iterators of an iterable using **iter()** function.\n",
    "- itr=itr(iterable)\n",
    "- val=next(itr)\n",
    "- .\n",
    "- .\n",
    "- stop iteration exception."
   ]
  },
  {
   "cell_type": "code",
   "execution_count": null,
   "id": "46a42f8b-596a-410c-9b29-89de351e7fa8",
   "metadata": {},
   "outputs": [],
   "source": []
  }
 ],
 "metadata": {
  "kernelspec": {
   "display_name": "Python 3 (ipykernel)",
   "language": "python",
   "name": "python3"
  },
  "language_info": {
   "codemirror_mode": {
    "name": "ipython",
    "version": 3
   },
   "file_extension": ".py",
   "mimetype": "text/x-python",
   "name": "python",
   "nbconvert_exporter": "python",
   "pygments_lexer": "ipython3",
   "version": "3.11.7"
  }
 },
 "nbformat": 4,
 "nbformat_minor": 5
}

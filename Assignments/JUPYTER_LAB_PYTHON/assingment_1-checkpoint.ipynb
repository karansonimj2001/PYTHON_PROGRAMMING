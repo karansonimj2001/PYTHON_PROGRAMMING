{
 "cells": [
  {
   "cell_type": "markdown",
   "id": "bc710af5-8190-4d34-a648-8d323780b987",
   "metadata": {},
   "source": [
    "# 1. Write a Python program to create a class representing a Circle. Include methods to calculate its area and perimeter."
   ]
  },
  {
   "cell_type": "code",
   "execution_count": 4,
   "id": "6026339d-8f53-4fc9-adb5-241d990a68dd",
   "metadata": {
    "tags": []
   },
   "outputs": [
    {
     "name": "stdout",
     "output_type": "stream",
     "text": [
      "78.5\n",
      "43.96\n"
     ]
    }
   ],
   "source": [
    "class circle:\n",
    "    def area(self,r):\n",
    "        print(3.14*r**2)\n",
    "    def perimeter(self,p):\n",
    "        print(2*3.14*(p))\n",
    "\n",
    "obj=circle()\n",
    "obj.area(5)\n",
    "obj.perimeter(7)"
   ]
  },
  {
   "cell_type": "code",
   "execution_count": null,
   "id": "a84b102f-cc58-4f54-89e1-f2c8b9affc68",
   "metadata": {},
   "outputs": [],
   "source": []
  }
 ],
 "metadata": {
  "kernelspec": {
   "display_name": "Python 3 (ipykernel)",
   "language": "python",
   "name": "python3"
  },
  "language_info": {
   "codemirror_mode": {
    "name": "ipython",
    "version": 3
   },
   "file_extension": ".py",
   "mimetype": "text/x-python",
   "name": "python",
   "nbconvert_exporter": "python",
   "pygments_lexer": "ipython3",
   "version": "3.11.7"
  }
 },
 "nbformat": 4,
 "nbformat_minor": 5
}

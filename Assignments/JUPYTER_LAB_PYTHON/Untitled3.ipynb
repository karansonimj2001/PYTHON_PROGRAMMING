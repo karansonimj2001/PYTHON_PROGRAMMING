{
 "cells": [
  {
   "cell_type": "code",
   "execution_count": 40,
   "id": "9b735bbb-4faa-4f47-ac74-3bcf374a25be",
   "metadata": {
    "tags": []
   },
   "outputs": [
    {
     "name": "stdout",
     "output_type": "stream",
     "text": [
      "1 rows are inserted\n",
      "2 rows selected\n"
     ]
    }
   ],
   "source": [
    "import pymysql \n",
    "conobj=pymysql.connect(host=\"localhost\",port=3306,user=\"root\",password=\"root\",database=\"11to12\")\n",
    "curobj=conobj.cursor()\n",
    "rowcount_s=curobj.execute(\"select ename, esal , empid from emp where edept = 'hr'\")\n",
    "insert_i=curobj.execute(\"insert into emp values(13,225,'naveen',10000,'hr1')\")\n",
    "\n",
    "print(insert_i,\"rows are inserted\")\n",
    "print(rowcount_s,\"rows selected\")\n",
    "conobj.close()\n"
   ]
  },
  {
   "cell_type": "code",
   "execution_count": 3,
   "id": "672f7ed5-cf6e-4570-b566-8661e7be9be2",
   "metadata": {
    "tags": []
   },
   "outputs": [
    {
     "name": "stdout",
     "output_type": "stream",
     "text": [
      "0 rows are inserted\n"
     ]
    }
   ],
   "source": [
    "import pymysql \n",
    "conobj=pymysql.connect(host=\"localhost\",port=3306,user=\"root\",password=\"root\",database=\"11to12\")\n",
    "curobj=conobj.cursor()\n",
    "delet_d=curobj.execute(\"delete from emp where empid = 35\")\n",
    "print(delet_d,\"rows are inserted\")\n",
    "conobj.close()\n"
   ]
  },
  {
   "cell_type": "code",
   "execution_count": 11,
   "id": "f3d758c6-1625-4bee-99b6-29646cd92f9e",
   "metadata": {},
   "outputs": [
    {
     "name": "stdin",
     "output_type": "stream",
     "text": [
      "enter the empid =  102\n"
     ]
    },
    {
     "name": "stdout",
     "output_type": "stream",
     "text": [
      "1 rows are inserted\n",
      "welcome\n",
      "(4, 102, 'sachin', 24000, 'hr1')\n"
     ]
    }
   ],
   "source": [
    "import pymysql \n",
    "conobj=pymysql.connect(host=\"localhost\",port=3306,user=\"root\",password=\"root\",database=\"11to12\")\n",
    "curobj=conobj.cursor()\n",
    "empid=int(input('enter the empid = '))\n",
    "rowcount_s=curobj.execute(\"select * from emp where empid =%s\",(empid,))\n",
    "print(rowcount_s,\"rows are inserted\")\n",
    "if rowcount_s==0:\n",
    "    print(\"record does not exist\")\n",
    "else:\n",
    "    print(\"welcome\")\n",
    "    print(curobj.fetchone())\n",
    "conobj.close()\n"
   ]
  },
  {
   "cell_type": "code",
   "execution_count": 33,
   "id": "f54f7079-2c9a-4431-a419-6abfbda625cd",
   "metadata": {
    "tags": []
   },
   "outputs": [],
   "source": [
    "from tkinter import * \n",
    "def search():\n",
    "    empid=int(e.get())\n",
    "    import pymysql \n",
    "    conobj=pymysql.connect(host=\"localhost\",port=3306,user=\"root\",password=\"root\",database=\"11to12\")\n",
    "    curobj=conobj.cursor()\n",
    "    empid=int(input('enter the empid = '))\n",
    "    rowcount_s=curobj.execute(\"select * from emp where empid =%s\",(empid,))\n",
    "    print(rowcount_s,\"rows are inserted\")\n",
    "    if rowcount_s==0:\n",
    "        lbl=Label(win, text=\"emp does nt exist\",font=('arial',20),bg='yellow')\n",
    "        lbl.place(x=300,y=330)\n",
    "    else:\n",
    "        lbl=Label(win, text=\"welcome\",font=('arial',20),bg='yellow')\n",
    "        lbl.place(x=300,y=330)\n",
    "    conobj.close()\n",
    "\n",
    "win=Tk()\n",
    "win.state('zoomed')\n",
    "win.configure(bg='blue')\n",
    "\n",
    "lbl=Label(win, text=\"empid\",font=('arial',20),bg='yellow')\n",
    "lbl.place(x=30,y=330)\n",
    "\n",
    "e=Entry(win,font=('arial',20),bd=5)\n",
    "e.place(x=300,y=330)\n",
    "\n",
    "b=Button(win,text=\"search\",font=('arial',))\n",
    "b.place(x=350,y=500)\n",
    "win.mainloop()"
   ]
  },
  {
   "cell_type": "code",
   "execution_count": 35,
   "id": "89d8b6d7-737c-4a7e-a08d-a627428143d1",
   "metadata": {
    "tags": []
   },
   "outputs": [
    {
     "ename": "OperationalError",
     "evalue": "table emp already exists",
     "output_type": "error",
     "traceback": [
      "\u001b[1;31m---------------------------------------------------------------------------\u001b[0m",
      "\u001b[1;31mOperationalError\u001b[0m                          Traceback (most recent call last)",
      "Cell \u001b[1;32mIn[35], line 4\u001b[0m\n\u001b[0;32m      2\u001b[0m conobj\u001b[38;5;241m=\u001b[39msqlite3\u001b[38;5;241m.\u001b[39mconnect(database\u001b[38;5;241m=\u001b[39m\u001b[38;5;124m\"\u001b[39m\u001b[38;5;124mmydb.sqlite\u001b[39m\u001b[38;5;124m\"\u001b[39m) \u001b[38;5;66;03m#twd\u001b[39;00m\n\u001b[0;32m      3\u001b[0m curobj\u001b[38;5;241m=\u001b[39mconobj\u001b[38;5;241m.\u001b[39mcursor()\n\u001b[1;32m----> 4\u001b[0m curobj\u001b[38;5;241m.\u001b[39mexecute(\u001b[38;5;124m\"\u001b[39m\u001b[38;5;124mcreate table emp(eid int,ename text,esal float)\u001b[39m\u001b[38;5;124m\"\u001b[39m)\n\u001b[0;32m      5\u001b[0m conobj\u001b[38;5;241m.\u001b[39mclose()\n\u001b[0;32m      6\u001b[0m \u001b[38;5;28mprint\u001b[39m(\u001b[38;5;124m\"\u001b[39m\u001b[38;5;124mtable create\u001b[39m\u001b[38;5;124m\"\u001b[39m)\n",
      "\u001b[1;31mOperationalError\u001b[0m: table emp already exists"
     ]
    }
   ],
   "source": [
    "import sqlite3\n",
    "conobj=sqlite3.connect(database=\"mydb.sqlite\") #twd\n",
    "curobj=conobj.cursor()\n",
    "curobj.execute(\"create table emp(eid int,ename text,esal float)\")\n",
    "conobj.close()\n",
    "print(\"table create\")\n"
   ]
  },
  {
   "cell_type": "code",
   "execution_count": 41,
   "id": "dfcb2a3e-a6a6-4c87-96b9-ddc99409f5f6",
   "metadata": {
    "tags": []
   },
   "outputs": [
    {
     "name": "stdin",
     "output_type": "stream",
     "text": [
      "enter eid =  54\n",
      "enter ename =  varu\n",
      "enter esal =  55500055\n"
     ]
    },
    {
     "name": "stdout",
     "output_type": "stream",
     "text": [
      "record is added\n"
     ]
    }
   ],
   "source": [
    "import sqlite3\n",
    "conobj=sqlite3.connect(database=\"mydb.sqlite\") #twd\n",
    "curobj=conobj.cursor()\n",
    "eid=int(input(\"enter eid = \"))\n",
    "ename=input(\"enter ename = \")\n",
    "esal=float(input(\"enter esal = \"))\n",
    "\n",
    "curobj.execute(\"insert into emp values(?,?,?)\",(eid,ename,esal))\n",
    "conobj.commit()\n",
    "conobj.close()\n",
    "print(\"record is added\")"
   ]
  },
  {
   "cell_type": "code",
   "execution_count": 43,
   "id": "ecd61a19-093b-4ff3-814a-6778b18e408a",
   "metadata": {
    "tags": []
   },
   "outputs": [
    {
     "name": "stdout",
     "output_type": "stream",
     "text": [
      "[(23, 'karan', 6433.0), (54, 'varu', 55500055.0)]\n"
     ]
    }
   ],
   "source": [
    "import sqlite3\n",
    "conobj=sqlite3.connect(database=\"mydb.sqlite\") #twd\n",
    "curobj=conobj.cursor()\n",
    "curobj.execute(\"select * from emp\")\n",
    "tups=curobj.fetchall()\n",
    "print(tups)\n",
    "\n",
    "conobj.close()"
   ]
  },
  {
   "cell_type": "code",
   "execution_count": null,
   "id": "011e9db4-aac7-4df8-a23a-56c46f3a388b",
   "metadata": {},
   "outputs": [],
   "source": []
  }
 ],
 "metadata": {
  "kernelspec": {
   "display_name": "Python 3 (ipykernel)",
   "language": "python",
   "name": "python3"
  },
  "language_info": {
   "codemirror_mode": {
    "name": "ipython",
    "version": 3
   },
   "file_extension": ".py",
   "mimetype": "text/x-python",
   "name": "python",
   "nbconvert_exporter": "python",
   "pygments_lexer": "ipython3",
   "version": "3.11.7"
  }
 },
 "nbformat": 4,
 "nbformat_minor": 5
}

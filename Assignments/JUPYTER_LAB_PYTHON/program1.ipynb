{
 "cells": [
  {
   "cell_type": "code",
   "execution_count": 25,
   "id": "d1bba1e5-7334-4f63-9b19-8fefa6a6129a",
   "metadata": {
    "tags": []
   },
   "outputs": [
    {
     "data": {
      "text/plain": [
       "5"
      ]
     },
     "execution_count": 25,
     "metadata": {},
     "output_type": "execute_result"
    }
   ],
   "source": [
    "file=open('a.txt','w')\n",
    "file.write(str(2024))\n",
    "file.write('karan')\n",
    "file.write(' soni')\n",
    "file.close()"
   ]
  },
  {
   "cell_type": "code",
   "execution_count": 3,
   "id": "65c02a9c-6ab5-4889-b18c-e20145bab21f",
   "metadata": {
    "tags": []
   },
   "outputs": [],
   "source": [
    "file=open('a.txt','w')\n",
    "list1= ['hello\\n','my\\n','name\\n','is karan soni\\n']\n",
    "file.writelines(list1)\n",
    "file.close()"
   ]
  },
  {
   "cell_type": "markdown",
   "id": "acba54be-92e4-4ac4-9b4f-6dee6aafb039",
   "metadata": {},
   "source": [
    "# modes\n",
    "## r(rt)\n",
    "## rb\n",
    "## w(wt)\n",
    "## wb\n",
    "## a(at)\n",
    "## ab\n",
    "## r+\n",
    "## w+\n",
    "## a+\n",
    "## x(xt)\n",
    "## xb\n",
    "## etc.\n"
   ]
  },
  {
   "cell_type": "raw",
   "id": "ec6c57a5-c7c9-4a9c-af6e-5c907516bb17",
   "metadata": {},
   "source": [
    "#with block \n",
    "#it is used in open in resource like file, database ,etc.\n",
    "#advantage of with block is, opened resource will be closed automatically when code exists with block.\n"
   ]
  },
  {
   "cell_type": "code",
   "execution_count": 11,
   "id": "1cb0f28a-55b9-4db7-b2ac-1d0c082003a7",
   "metadata": {
    "tags": []
   },
   "outputs": [
    {
     "name": "stdout",
     "output_type": "stream",
     "text": [
      "hello\n",
      "my\n",
      "name\n",
      "is karan soni\n",
      "\n",
      "bye\n"
     ]
    }
   ],
   "source": [
    "with open('a.txt') as file :\n",
    "    text= file.read()\n",
    "    print(text)\n",
    "print('bye')"
   ]
  },
  {
   "cell_type": "code",
   "execution_count": null,
   "id": "8a3ccc06-fbbc-4d8b-8528-0e0e566d75db",
   "metadata": {},
   "outputs": [],
   "source": []
  }
 ],
 "metadata": {
  "kernelspec": {
   "display_name": "Python 3 (ipykernel)",
   "language": "python",
   "name": "python3"
  },
  "language_info": {
   "codemirror_mode": {
    "name": "ipython",
    "version": 3
   },
   "file_extension": ".py",
   "mimetype": "text/x-python",
   "name": "python",
   "nbconvert_exporter": "python",
   "pygments_lexer": "ipython3",
   "version": "3.11.7"
  }
 },
 "nbformat": 4,
 "nbformat_minor": 5
}

{
 "cells": [
  {
   "cell_type": "code",
   "execution_count": 29,
   "id": "da68f038-3a1d-4883-ad1b-a2fd9c0ac1d9",
   "metadata": {
    "tags": []
   },
   "outputs": [
    {
     "name": "stdout",
     "output_type": "stream",
     "text": [
      "done\n"
     ]
    }
   ],
   "source": [
    "\n",
    "from pymongo import MongoClient\n",
    "conobj=MongoClient()\n",
    "db=conobj['1230pm']\n",
    "empCol=db['emp']\n",
    "empCol.insert_one({'_id':202},{'en':'arjun', 'esal':25020}) \n",
    "\n",
    "empCol.update_many({},{'$inc':{'esal':100}})\n",
    "\n",
    "empCol.delete_one({'_id':101}) \n",
    "\n",
    "conobj.close()\n",
    "print('done')"
   ]
  },
  {
   "cell_type": "code",
   "execution_count": null,
   "id": "efaaeacd-b87f-4a82-ac64-b406d56c0bce",
   "metadata": {},
   "outputs": [],
   "source": []
  }
 ],
 "metadata": {
  "kernelspec": {
   "display_name": "Python 3 (ipykernel)",
   "language": "python",
   "name": "python3"
  },
  "language_info": {
   "codemirror_mode": {
    "name": "ipython",
    "version": 3
   },
   "file_extension": ".py",
   "mimetype": "text/x-python",
   "name": "python",
   "nbconvert_exporter": "python",
   "pygments_lexer": "ipython3",
   "version": "3.11.7"
  }
 },
 "nbformat": 4,
 "nbformat_minor": 5
}

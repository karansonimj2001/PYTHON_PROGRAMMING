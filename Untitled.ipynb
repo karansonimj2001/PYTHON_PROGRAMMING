{
 "cells": [
  {
   "cell_type": "markdown",
   "id": "df607bab-e8dc-47dd-9cdc-f0f09c58fbd0",
   "metadata": {},
   "source": [
    "# 2. Write a Python program to create a person class. Include attributes(instance data members) like name, country and date of birth. Implement a method to determine the person&#39;s age."
   ]
  },
  {
   "cell_type": "code",
   "execution_count": 7,
   "id": "72796767-c341-4be3-aa6d-33832c4a9c53",
   "metadata": {
    "tags": []
   },
   "outputs": [
    {
     "name": "stdout",
     "output_type": "stream",
     "text": [
      "2002\n",
      "21\n"
     ]
    }
   ],
   "source": [
    "class person:\n",
    "    def name(self,name):\n",
    "        print(name)\n",
    "    def country(self,country):\n",
    "        print(country)\n",
    "    def dob(self,dob):\n",
    "        print(dob)\n",
    "    @classmethod\n",
    "    def age(self,age):\n",
    "        # year=2024\n",
    "        print(age)\n",
    "\n",
    "obj=person()\n",
    "obj.dob(2002)\n",
    "obj.age(21)"
   ]
  },
  {
   "cell_type": "code",
   "execution_count": 7,
   "id": "aa6c485f-4c63-4856-967f-7b0b60614be3",
   "metadata": {
    "tags": []
   },
   "outputs": [
    {
     "ename": "ImportError",
     "evalue": "cannot import name 'thread' from 'threading' (C:\\Users\\prade\\anaconda3\\Lib\\threading.py)",
     "output_type": "error",
     "traceback": [
      "\u001b[1;31m---------------------------------------------------------------------------\u001b[0m",
      "\u001b[1;31mImportError\u001b[0m                               Traceback (most recent call last)",
      "Cell \u001b[1;32mIn[7], line 1\u001b[0m\n\u001b[1;32m----> 1\u001b[0m \u001b[38;5;28;01mfrom\u001b[39;00m \u001b[38;5;21;01mthreading\u001b[39;00m \u001b[38;5;28;01mimport\u001b[39;00m thread\n\u001b[0;32m      2\u001b[0m \u001b[38;5;28;01mdef\u001b[39;00m \u001b[38;5;21mcheckeven\u001b[39m():\n\u001b[0;32m      3\u001b[0m     num\u001b[38;5;241m=\u001b[39m\u001b[38;5;28mint\u001b[39m(\u001b[38;5;28minput\u001b[39m())\n",
      "\u001b[1;31mImportError\u001b[0m: cannot import name 'thread' from 'threading' (C:\\Users\\prade\\anaconda3\\Lib\\threading.py)"
     ]
    }
   ],
   "source": [
    "from threading import thread\n",
    "def checkeven():\n",
    "    num=int(input())\n",
    "    if num%2==0:\n",
    "        print('even')\n",
    "    else:\n",
    "        print('odd')\n",
    "def changename():\n",
    "    import os\n",
    "    os.rename('a1.txt','a.txt')\n",
    "t1=thread(target=checkeven)\n",
    "t2=thread(target=changename)\n",
    "t1.start()\n",
    "t2.start()"
   ]
  },
  {
   "cell_type": "code",
   "execution_count": null,
   "id": "5a714b3c-831c-47fb-bae3-d366a63b344f",
   "metadata": {},
   "outputs": [],
   "source": [
    "\n"
   ]
  }
 ],
 "metadata": {
  "kernelspec": {
   "display_name": "Python 3 (ipykernel)",
   "language": "python",
   "name": "python3"
  },
  "language_info": {
   "codemirror_mode": {
    "name": "ipython",
    "version": 3
   },
   "file_extension": ".py",
   "mimetype": "text/x-python",
   "name": "python",
   "nbconvert_exporter": "python",
   "pygments_lexer": "ipython3",
   "version": "3.11.7"
  }
 },
 "nbformat": 4,
 "nbformat_minor": 5
}

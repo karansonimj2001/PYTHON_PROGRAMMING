{
 "cells": [
  {
   "cell_type": "raw",
   "id": "905a5bf5-1bcc-4413-970a-78017a38d8ae",
   "metadata": {
    "tags": []
   },
   "source": [
    "#file i/o\n",
    "-it is a technique to perform read/wrtie operations with text file \n",
    "\n",
    "#### steps\n",
    "#####step 1 open a file using a mode \n",
    "#####step 2 perform read/wrtie operation based on mode \n",
    "#####step 3 close the file \n"
   ]
  },
  {
   "cell_type": "code",
   "execution_count": 57,
   "id": "665d5b10-0ba1-4666-97a8-70096e46097d",
   "metadata": {
    "tags": []
   },
   "outputs": [
    {
     "name": "stdout",
     "output_type": "stream",
     "text": [
      "python was first released in 1991 by guido van roosum \n",
      "it is easy to understand \n",
      "bye\n"
     ]
    }
   ],
   "source": [
    "file1=open('msg.txt','r')\n",
    "file1.read()\n",
    "file1.seek(0)\n",
    "txt=file1.read()\n",
    "print(txt)\n",
    "file1.close()\n",
    "\n"
   ]
  },
  {
   "cell_type": "code",
   "execution_count": 75,
   "id": "b6809b19-9b54-4d9a-b128-b38ca571601f",
   "metadata": {
    "tags": []
   },
   "outputs": [
    {
     "name": "stdout",
     "output_type": "stream",
     "text": [
      "python was first released in 1991 by guido van roosum \n",
      "\n",
      "it is easy to understand \n",
      "\n",
      "bye\n"
     ]
    }
   ],
   "source": [
    "file1=open('msg.txt','r')\n",
    "\n",
    "line=file1.readline()\n",
    "print(line)\n",
    "line=file1.readline()\n",
    "print(line)\n",
    "line=file1.read(3)\n",
    "print(line)"
   ]
  },
  {
   "cell_type": "raw",
   "id": "e410c968-26f6-4eb6-960e-1f8ca156c53c",
   "metadata": {
    "tags": []
   },
   "source": [
    "##### internal working of file \n",
    "###### a file cursor is created when we open a file and it's values set to 0.\n",
    "###### read() method reads next chars from cursor position.\n",
    "###### tell() method returns current position of cursor.\n",
    "###### seek() method reset position of cursor.\n"
   ]
  },
  {
   "cell_type": "code",
   "execution_count": 81,
   "id": "c1224a75-a9d8-42ba-8baf-874a0e57cf21",
   "metadata": {
    "tags": []
   },
   "outputs": [
    {
     "name": "stdout",
     "output_type": "stream",
     "text": [
      "['n roosum \\n', 'it is easy to understand \\n', 'bye']\n"
     ]
    }
   ],
   "source": [
    "file1=open('msg.txt','r')\n",
    "file1.seek(45)\n",
    "line=file1.readlines()\n",
    "print(line)\n",
    "file1.close()"
   ]
  },
  {
   "cell_type": "code",
   "execution_count": 91,
   "id": "29fbb863-6814-4f56-b03e-c964fdba4cdd",
   "metadata": {
    "tags": []
   },
   "outputs": [
    {
     "name": "stdout",
     "output_type": "stream",
     "text": [
      "1 ['n roosum \\n', 'it is easy to understand \\n', 'bye']2 ['n roosum \\n', 'it is easy to understand \\n', 'bye']3 ['n roosum \\n', 'it is easy to understand \\n', 'bye']"
     ]
    }
   ],
   "source": [
    "file1=open('msg.txt','r')\n",
    "count=1\n",
    "for i in  file1:\n",
    "    print(count,line,end=\"\")\n",
    "    count=1+count"
   ]
  },
  {
   "cell_type": "raw",
   "id": "71c2b5ec-5def-4386-a9e0-8f88e892a946",
   "metadata": {},
   "source": [
    "#### 4 ways to read a file \n",
    "-#### file.read(chars)------> reads next chars from cursor position as str.\n",
    "-#### file.readline()-------> reads next chars from cursor postion upto nextline (/n) as str.\n",
    "-#### file.readlines()------> reads all next lines from cursor postion as list.\n",
    "-#### for loop--------------> reads all next lines from cursor position one by one as str."
   ]
  },
  {
   "cell_type": "code",
   "execution_count": 99,
   "id": "4769996d-d226-452f-a5d0-9a45d75503fb",
   "metadata": {
    "tags": []
   },
   "outputs": [
    {
     "name": "stdout",
     "output_type": "stream",
     "text": [
      "python\n",
      "was\n",
      "first\n",
      "released\n",
      "in\n",
      "1991\n",
      "by\n",
      "guido\n",
      "van\n",
      "roosum\n",
      "it\n",
      "is\n",
      "easy\n",
      "to\n",
      "understand\n",
      "bye\n"
     ]
    }
   ],
   "source": [
    "file1=open('msg.txt','r')\n",
    "txt=file1.read()\n",
    "count=1\n",
    "file1=txt.split()\n",
    "for i in  file1:\n",
    "    print(i)\n",
    "    count=1+count"
   ]
  },
  {
   "cell_type": "code",
   "execution_count": null,
   "id": "36831c9b-312c-41b8-b2f5-672d60593221",
   "metadata": {},
   "outputs": [],
   "source": []
  }
 ],
 "metadata": {
  "kernelspec": {
   "display_name": "Python 3 (ipykernel)",
   "language": "python",
   "name": "python3"
  },
  "language_info": {
   "codemirror_mode": {
    "name": "ipython",
    "version": 3
   },
   "file_extension": ".py",
   "mimetype": "text/x-python",
   "name": "python",
   "nbconvert_exporter": "python",
   "pygments_lexer": "ipython3",
   "version": "3.11.7"
  }
 },
 "nbformat": 4,
 "nbformat_minor": 5
}
